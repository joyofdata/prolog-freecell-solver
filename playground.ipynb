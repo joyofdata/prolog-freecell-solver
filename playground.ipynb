{
 "cells": [
  {
   "cell_type": "code",
   "execution_count": 43,
   "id": "cd00f728-6533-4a6e-9c23-e28ae224b143",
   "metadata": {},
   "outputs": [],
   "source": [
    "import re\n",
    "\n",
    "num_lanes = 3\n",
    "num_goals = 2\n",
    "num_freecells = 2"
   ]
  },
  {
   "cell_type": "code",
   "execution_count": 66,
   "id": "6b640015-f93b-441b-a785-2966ec8d19fd",
   "metadata": {},
   "outputs": [],
   "source": [
    "L = lambda la,lb,i: [f\"L{i}\",f\"[L{i}|L{i}s]\"][i in [la,lb]]\n",
    "\n",
    "def L_(la,lb,i):\n",
    "    if i == la:\n",
    "        r = f\"L{la}s\"\n",
    "    elif i == lb:\n",
    "        r = f\"[L{la},L{lb}|L{lb}s]\"\n",
    "    else:\n",
    "        r = f\"L{i}\"\n",
    "    return r\n",
    "\n",
    "la=3\n",
    "lb=1\n",
    "\n",
    "res=f\"\"\"\n",
    "f(G1, G2, F1, F2, {L(la,lb,1)}, {L(la,lb,2)}, {L(la,lb,3)}, [S_|S], P, P_) :- L{la} \\= b, (L{lb} = b ; (L{lb} \\= b, L{lb} =:= L{la} + 1)), \\+ member([{L_(la,lb,1)},{L_(la,lb,2)},{L_(la,lb,3)}],P), step_str(L{la}, 'L{la}', 'L{lb}', S_), f(G1, G2, F1, F2, {L_(la,lb,1)}, {L_(la,lb,2)}, {L_(la,lb,3)}, S, [[{L_(la,lb,1)},{L_(la,lb,2)},{L_(la,lb,3)}]|P], P_).\n",
    "\"\"\".strip()"
   ]
  },
  {
   "cell_type": "code",
   "execution_count": 69,
   "id": "aea95922-0f8c-428f-a287-e843c22e5dd7",
   "metadata": {},
   "outputs": [],
   "source": [
    "def lanes_to_lanes(num_lanes):\n",
    "    L = lambda la,lb,i: [f\"L{i}\",f\"[L{i}|L{i}s]\"][i in [la,lb]]\n",
    "    \n",
    "    def L_(la,lb,i):\n",
    "        if i == la:\n",
    "            r = f\"L{la}s\"\n",
    "        elif i == lb:\n",
    "            r = f\"[L{la},L{lb}|L{lb}s]\"\n",
    "        else:\n",
    "            r = f\"L{i}\"\n",
    "        return r\n",
    "    \n",
    "    res = []\n",
    "    for la in range(1,num_lanes+1):\n",
    "        for lb in range(1,num_lanes+1):\n",
    "            res0 = f\"\"\"\n",
    "            f(G1, G2, \n",
    "                F1, F2, \n",
    "                {L(la,lb,1)}, {L(la,lb,2)}, {L(la,lb,3)}, \n",
    "                [S_|S], P, P_\n",
    "            ) :- \n",
    "                L{la} \\= b, (L{lb} = b ; (L{lb} \\= b, L{lb} =:= L{la} + 1)), \n",
    "                \\+ member([{L_(la,lb,1)},{L_(la,lb,2)},{L_(la,lb,3)}],P), \n",
    "                step_str(L{la}, 'L{la}', 'L{lb}', S_), \n",
    "                f(G1, G2, \n",
    "                    F1, F2, \n",
    "                    {L_(la,lb,1)}, {L_(la,lb,2)}, {L_(la,lb,3)}, \n",
    "                    S, [[{L_(la,lb,1)},{L_(la,lb,2)},{L_(la,lb,3)}]|P], P_\n",
    "                ).\n",
    "            \"\"\"\n",
    "            res.append(re.sub(\"\\n            \",\"\\n\",res0).lstrip())\n",
    "\n",
    "    return \"\\n\".join(res)"
   ]
  },
  {
   "cell_type": "code",
   "execution_count": 70,
   "id": "7485f11d-d046-42c3-8cd3-56b9fe8e49b1",
   "metadata": {},
   "outputs": [
    {
     "data": {
      "text/plain": [
       "\"f(G1, G2, \\n    F1, F2, \\n    [L1|L1s], L2, L3, \\n    [S_|S], P, P_\\n) :- \\n    L1 \\\\= b, (L1 = b ; (L1 \\\\= b, L1 =:= L1 + 1)), \\n    \\\\+ member([L1s,L2,L3],P), \\n    step_str(L1, 'L1', 'L1', S_), \\n    f(G1, G2, \\n        F1, F2, \\n        L1s, L2, L3, \\n        S, [[L1s,L2,L3]|P], P_\\n    ).\\n\\nf(G1, G2, \\n    F1, F2, \\n    [L1|L1s], [L2|L2s], L3, \\n    [S_|S], P, P_\\n) :- \\n    L1 \\\\= b, (L2 = b ; (L2 \\\\= b, L2 =:= L1 + 1)), \\n    \\\\+ member([L1s,[L1,L2|L2s],L3],P), \\n    step_str(L1, 'L1', 'L2', S_), \\n    f(G1, G2, \\n        F1, F2, \\n        L1s, [L1,L2|L2s], L3, \\n        S, [[L1s,[L1,L2|L2s],L3]|P], P_\\n    ).\\n\\nf(G1, G2, \\n    F1, F2, \\n    [L1|L1s], L2, [L3|L3s], \\n    [S_|S], P, P_\\n) :- \\n    L1 \\\\= b, (L3 = b ; (L3 \\\\= b, L3 =:= L1 + 1)), \\n    \\\\+ member([L1s,L2,[L1,L3|L3s]],P), \\n    step_str(L1, 'L1', 'L3', S_), \\n    f(G1, G2, \\n        F1, F2, \\n        L1s, L2, [L1,L3|L3s], \\n        S, [[L1s,L2,[L1,L3|L3s]]|P], P_\\n    ).\\n\\nf(G1, G2, \\n    F1, F2, \\n    [L1|L1s], [L2|L2s], L3, \\n    [S_|S], P, P_\\n) :- \\n    L2 \\\\= b, (L1 = b ; (L1 \\\\= b, L1 =:= L2 + 1)), \\n    \\\\+ member([[L2,L1|L1s],L2s,L3],P), \\n    step_str(L2, 'L2', 'L1', S_), \\n    f(G1, G2, \\n        F1, F2, \\n        [L2,L1|L1s], L2s, L3, \\n        S, [[[L2,L1|L1s],L2s,L3]|P], P_\\n    ).\\n\\nf(G1, G2, \\n    F1, F2, \\n    L1, [L2|L2s], L3, \\n    [S_|S], P, P_\\n) :- \\n    L2 \\\\= b, (L2 = b ; (L2 \\\\= b, L2 =:= L2 + 1)), \\n    \\\\+ member([L1,L2s,L3],P), \\n    step_str(L2, 'L2', 'L2', S_), \\n    f(G1, G2, \\n        F1, F2, \\n        L1, L2s, L3, \\n        S, [[L1,L2s,L3]|P], P_\\n    ).\\n\\nf(G1, G2, \\n    F1, F2, \\n    L1, [L2|L2s], [L3|L3s], \\n    [S_|S], P, P_\\n) :- \\n    L2 \\\\= b, (L3 = b ; (L3 \\\\= b, L3 =:= L2 + 1)), \\n    \\\\+ member([L1,L2s,[L2,L3|L3s]],P), \\n    step_str(L2, 'L2', 'L3', S_), \\n    f(G1, G2, \\n        F1, F2, \\n        L1, L2s, [L2,L3|L3s], \\n        S, [[L1,L2s,[L2,L3|L3s]]|P], P_\\n    ).\\n\\nf(G1, G2, \\n    F1, F2, \\n    [L1|L1s], L2, [L3|L3s], \\n    [S_|S], P, P_\\n) :- \\n    L3 \\\\= b, (L1 = b ; (L1 \\\\= b, L1 =:= L3 + 1)), \\n    \\\\+ member([[L3,L1|L1s],L2,L3s],P), \\n    step_str(L3, 'L3', 'L1', S_), \\n    f(G1, G2, \\n        F1, F2, \\n        [L3,L1|L1s], L2, L3s, \\n        S, [[[L3,L1|L1s],L2,L3s]|P], P_\\n    ).\\n\\nf(G1, G2, \\n    F1, F2, \\n    L1, [L2|L2s], [L3|L3s], \\n    [S_|S], P, P_\\n) :- \\n    L3 \\\\= b, (L2 = b ; (L2 \\\\= b, L2 =:= L3 + 1)), \\n    \\\\+ member([L1,[L3,L2|L2s],L3s],P), \\n    step_str(L3, 'L3', 'L2', S_), \\n    f(G1, G2, \\n        F1, F2, \\n        L1, [L3,L2|L2s], L3s, \\n        S, [[L1,[L3,L2|L2s],L3s]|P], P_\\n    ).\\n\\nf(G1, G2, \\n    F1, F2, \\n    L1, L2, [L3|L3s], \\n    [S_|S], P, P_\\n) :- \\n    L3 \\\\= b, (L3 = b ; (L3 \\\\= b, L3 =:= L3 + 1)), \\n    \\\\+ member([L1,L2,L3s],P), \\n    step_str(L3, 'L3', 'L3', S_), \\n    f(G1, G2, \\n        F1, F2, \\n        L1, L2, L3s, \\n        S, [[L1,L2,L3s]|P], P_\\n    ).\\n\""
      ]
     },
     "execution_count": 70,
     "metadata": {},
     "output_type": "execute_result"
    }
   ],
   "source": [
    "lanes_to_lanes(num_lanes)"
   ]
  },
  {
   "cell_type": "code",
   "execution_count": null,
   "id": "ecc94bb9-19f5-44b8-ac80-99d907707c94",
   "metadata": {},
   "outputs": [],
   "source": []
  }
 ],
 "metadata": {
  "kernelspec": {
   "display_name": "Python 3 (ipykernel)",
   "language": "python",
   "name": "python3"
  },
  "language_info": {
   "codemirror_mode": {
    "name": "ipython",
    "version": 3
   },
   "file_extension": ".py",
   "mimetype": "text/x-python",
   "name": "python",
   "nbconvert_exporter": "python",
   "pygments_lexer": "ipython3",
   "version": "3.10.12"
  }
 },
 "nbformat": 4,
 "nbformat_minor": 5
}

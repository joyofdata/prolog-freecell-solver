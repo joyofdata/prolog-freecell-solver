{
 "cells": [
  {
   "cell_type": "code",
   "execution_count": 123,
   "id": "cd00f728-6533-4a6e-9c23-e28ae224b143",
   "metadata": {},
   "outputs": [],
   "source": [
    "import re\n",
    "import itertools as it\n",
    "\n",
    "num_lanes = 3\n",
    "num_goals = 2\n",
    "num_freecells = 2"
   ]
  },
  {
   "cell_type": "code",
   "execution_count": null,
   "id": "a85f5781-f605-45ca-ac0b-e0364355d65d",
   "metadata": {},
   "outputs": [],
   "source": [
    "% lanes to free cells\n",
    "f(G1, G2, [], F2, [L1|L1s], L2, L3, [S_|S], P, P_) :- L1 \\= b, \\+ member([L1s,L2,L3],P), step_str(L1, 'L1', 'F1', S_), f(G1, G2, [L1], F2, L1s, L2, L3, S, [[L1s,L2,L3]|P], P_).\n",
    "f(G1, G2, [], F2, L1, [L2|L2s], L3, [S_|S], P, P_) :- L2 \\= b, \\+ member([L1,L2s,L3],P), step_str(L2, 'L2', 'F1', S_), f(G1, G2, [L2], F2, L1, L2s, L3, S, [[L1,L2s,L3]|P], P_).\n",
    "f(G1, G2, [], F2, L1, L2, [L3|L3s], [S_|S], P, P_) :- L3 \\= b, \\+ member([L1,L2,L3s],P), step_str(L3, 'L3', 'F1', S_), f(G1, G2, [L3], F2, L1, L2, L3s, S, [[L1,L2,L3s]|P], P_).\n",
    "f(G1, G2, F1, [], [L1|L1s], L2, L3, [S_|S], P, P_) :- L1 \\= b, \\+ member([L1s,L2,L3],P), step_str(L1, 'L1', 'F2', S_), f(G1, G2, F1, [L1], L1s, L2, L3, S, [[L1s,L2,L3]|P], P_).\n",
    "f(G1, G2, F1, [], L1, [L2|L2s], L3, [S_|S], P, P_) :- L2 \\= b, \\+ member([L1,L2s,L3],P), step_str(L2, 'L2', 'F2', S_), f(G1, G2, F1, [L2], L1, L2s, L3, S, [[L1,L2s,L3]|P], P_).\n",
    "f(G1, G2, F1, [], L1, L2, [L3|L3s], [S_|S], P, P_) :- L3 \\= b, \\+ member([L1,L2,L3s],P), step_str(L3, 'L3', 'F2', S_), f(G1, G2, F1, [L3], L1, L2, L3s, S, [[L1,L2,L3s]|P], P_).\n"
   ]
  },
  {
   "cell_type": "code",
   "execution_count": 83,
   "id": "6b640015-f93b-441b-a785-2966ec8d19fd",
   "metadata": {},
   "outputs": [],
   "source": [
    "l = 3\n",
    "f = 1\n",
    "\n",
    "L = lambda l,i: [f\"L{i}\",f\"[L{l}|L{l}s]\"][l==i]\n",
    "F = lambda f,i: [f\"F{i}\",f\"[]\"][f==i]\n",
    "\n",
    "L_ = lambda l,i: [f\"L{i}\",f\"L{l}s\"][l==i]\n",
    "F_ = lambda f,l,i: [f\"F{i}\",f\"[L{l}]\"][f==i]\n",
    "\n",
    "res0 = f\"\"\"\n",
    "f(G1, G2, {F(f,1)}, {F(f,2)}, {L(l,1)}, {L(l,2)}, {L(l,3)}, [S_|S], P, P_) :- L{l} \\= b, \\+ member([{L_(l,1)},{L_(l,2)},{L_(l,3)}],P), step_str(L{l}, 'L{l}', 'F{f}', S_), f(G1, G2, {F_(f,l,1)}, {F_(f,l,2)}, {L_(l,1)}, {L_(l,2)}, {L_(l,3)}, S, [[{L_(l,1)},{L_(l,2)},{L_(l,3)}]|P], P_).\n",
    "\"\"\".strip()\n",
    "\n"
   ]
  },
  {
   "cell_type": "code",
   "execution_count": 84,
   "id": "bd03ce77-a882-4891-a935-076572ec7079",
   "metadata": {},
   "outputs": [
    {
     "data": {
      "text/plain": [
       "True"
      ]
     },
     "execution_count": 84,
     "metadata": {},
     "output_type": "execute_result"
    }
   ],
   "source": [
    "res0 == \"f(G1, G2, [], F2, L1, L2, [L3|L3s], [S_|S], P, P_) :- L3 \\= b, \\+ member([L1,L2,L3s],P), step_str(L3, 'L3', 'F1', S_), f(G1, G2, [L3], F2, L1, L2, L3s, S, [[L1,L2,L3s]|P], P_).\""
   ]
  },
  {
   "cell_type": "code",
   "execution_count": 85,
   "id": "b7cc8c24-608c-4831-a6dc-c675f335f493",
   "metadata": {},
   "outputs": [
    {
     "name": "stdout",
     "output_type": "stream",
     "text": [
      "f(G1, G2, [], F2, L1, L2, [L3|L3s], [S_|S], P, P_) :- L3 \\= b, \\+ member([L1,L2,L3s],P), step_str(L3, 'L3', 'F1', S_), f(G1, G2, [L3], F2, L1, L2, L3s, S, [[L1,L2,L3s]|P], P_).\n"
     ]
    }
   ],
   "source": [
    "print(res0)"
   ]
  },
  {
   "cell_type": "code",
   "execution_count": 104,
   "id": "aea95922-0f8c-428f-a287-e843c22e5dd7",
   "metadata": {},
   "outputs": [],
   "source": [
    "def lanes_to_freecells(num_lanes, num_freecells):\n",
    "    L = lambda l,i: [f\"L{i}\",f\"[L{l}|L{l}s]\"][l==i]\n",
    "    F = lambda f,i: [f\"F{i}\",f\"[]\"][f==i]\n",
    "\n",
    "    L_ = lambda l,i: [f\"L{i}\",f\"L{l}s\"][l==i]\n",
    "    F_ = lambda f,l,i: [f\"F{i}\",f\"[L{l}]\"][f==i]\n",
    "\n",
    "    res = []\n",
    "    for la in range(1,num_lanes+1):\n",
    "        for lb in range(1,num_lanes+1):\n",
    "            res0 = f\"\"\"\n",
    "            f(G1, G2,                         %XX YY\n",
    "                {F(f,1)}, {F(f,2)}, \n",
    "                {L(l,1)}, {L(l,2)}, {L(l,3)}, \n",
    "                [S_|S], P, P_\n",
    "            ) :- \n",
    "                L{l} \\= b, \n",
    "                \\+ member([{L_(l,1)},{L_(l,2)},{L_(l,3)}],P), \n",
    "                step_str(L{l}, 'L{l}', 'F{f}', S_), \n",
    "                f(G1, G2, \n",
    "                    {F_(f,l,1)}, {F_(f,l,2)}, \n",
    "                    {L_(l,1)}, {L_(l,2)}, {L_(l,3)}, \n",
    "                    S, [[{L_(l,1)},{L_(l,2)},{L_(l,3)}]|P], P_\n",
    "                ).\n",
    "            \"\"\"\n",
    "            res.append(re.sub(\"\\n            \",\"\\n\",res0).lstrip())\n",
    "\n",
    "    return res\n",
    "\n",
    "    return \"\\n\".join(res)"
   ]
  },
  {
   "cell_type": "code",
   "execution_count": 105,
   "id": "7485f11d-d046-42c3-8cd3-56b9fe8e49b1",
   "metadata": {},
   "outputs": [],
   "source": [
    "res = lanes_to_freecells(num_lanes, num_freecells)"
   ]
  },
  {
   "cell_type": "code",
   "execution_count": 124,
   "id": "f8aef397-f16c-434f-a0a6-f58a2df6bf48",
   "metadata": {},
   "outputs": [
    {
     "data": {
      "text/plain": [
       "[\"f(G1, G2,                         %XX YY\\n    [], F2, \\n    L1, L2, [L3|L3s], \\n    [S_|S], P, P_\\n) :- \\n    L3 \\\\= b, \\n    \\\\+ member([L1,L2,L3s],P), \\n    step_str(L3, 'L3', 'F1', S_), \\n    f(G1, G2, \\n        [L3], F2, \\n        L1, L2, L3s, \\n        S, [[L1,L2,L3s]|P], P_\\n    ).\\n\",\n",
       " \"f(G1, G2, [], F2, L1, L2, [L3|L3s], [S_|S], P, P_):-L3\\\\=b, \\\\+member([L1, L2, L3s], P), step_str(L3, 'L3', 'F1', S_), f(G1, G2, [L3], F2, L1, L2, L3s, S, [[L1, L2, L3s]|P], P_).\",\n",
       " \"f(G1, G2, [], F2, L1, L2, [L3|L3s], [S_|S], P, P_):-L3\\\\=b, \\\\+member([L1, L2, L3s], P), step_str(L3, 'L3', 'F1', S_), f(G1, G2, [L3], F2, L1, L2, L3s, S, [[L1, L2, L3s]|P], P_).\",\n",
       " \"f(G1, G2, [], F2, L1, L2, [L3|L3s], [S_|S], P, P_):-L3\\\\=b, \\\\+member([L1, L2, L3s], P), step_str(L3, 'L3', 'F1', S_), f(G1, G2, [L3], F2, L1, L2, L3s, S, [[L1, L2, L3s]|P], P_).\",\n",
       " \"f(G1, G2, [], F2, L1, L2, [L3|L3s], [S_|S], P, P_):-L3\\\\=b, \\\\+member([L1, L2, L3s], P), step_str(L3, 'L3', 'F1', S_), f(G1, G2, [L3], F2, L1, L2, L3s, S, [[L1, L2, L3s]|P], P_).\",\n",
       " \"f(G1, G2, [], F2, L1, L2, [L3|L3s], [S_|S], P, P_):-L3\\\\=b, \\\\+member([L1, L2, L3s], P), step_str(L3, 'L3', 'F1', S_), f(G1, G2, [L3], F2, L1, L2, L3s, S, [[L1, L2, L3s]|P], P_).\",\n",
       " \"f(G1, G2, [], F2, L1, L2, [L3|L3s], [S_|S], P, P_):-L3\\\\=b, \\\\+member([L1, L2, L3s], P), step_str(L3, 'L3', 'F1', S_), f(G1, G2, [L3], F2, L1, L2, L3s, S, [[L1, L2, L3s]|P], P_).\",\n",
       " \"f(G1, G2, [], F2, L1, L2, [L3|L3s], [S_|S], P, P_):-L3\\\\=b, \\\\+member([L1, L2, L3s], P), step_str(L3, 'L3', 'F1', S_), f(G1, G2, [L3], F2, L1, L2, L3s, S, [[L1, L2, L3s]|P], P_).\",\n",
       " \"f(G1, G2, [], F2, L1, L2, [L3|L3s], [S_|S], P, P_):-L3\\\\=b, \\\\+member([L1, L2, L3s], P), step_str(L3, 'L3', 'F1', S_), f(G1, G2, [L3], F2, L1, L2, L3s, S, [[L1, L2, L3s]|P], P_).\"]"
      ]
     },
     "execution_count": 124,
     "metadata": {},
     "output_type": "execute_result"
    }
   ],
   "source": [
    "list(\n",
    "it.chain([res[0]],map(lambda r: \"\".join(re.sub(r\"%.*\",\"\",r).split()).replace(\",\",\", \"),res[1:]))\n",
    ")"
   ]
  },
  {
   "cell_type": "code",
   "execution_count": 94,
   "id": "378754b1-09f6-4cde-b842-3e802118ed10",
   "metadata": {},
   "outputs": [
    {
     "data": {
      "text/plain": [
       "'f'"
      ]
     },
     "execution_count": 94,
     "metadata": {},
     "output_type": "execute_result"
    }
   ],
   "source": [
    "res[0]"
   ]
  },
  {
   "cell_type": "code",
   "execution_count": 120,
   "id": "7356349e-35ba-452e-be99-e029522cc183",
   "metadata": {},
   "outputs": [],
   "source": [
    "[1,2,3].insert(0,0)"
   ]
  },
  {
   "cell_type": "code",
   "execution_count": 121,
   "id": "f874be8f-d099-4899-8296-0a96dea3fbeb",
   "metadata": {},
   "outputs": [
    {
     "ename": "TypeError",
     "evalue": "list expected at most 1 argument, got 2",
     "output_type": "error",
     "traceback": [
      "\u001b[0;31m---------------------------------------------------------------------------\u001b[0m",
      "\u001b[0;31mTypeError\u001b[0m                                 Traceback (most recent call last)",
      "Cell \u001b[0;32mIn[121], line 1\u001b[0m\n\u001b[0;32m----> 1\u001b[0m \u001b[38;5;28;43mlist\u001b[39;49m\u001b[43m(\u001b[49m\u001b[43m[\u001b[49m\u001b[38;5;241;43m1\u001b[39;49m\u001b[43m,\u001b[49m\u001b[38;5;241;43m2\u001b[39;49m\u001b[43m]\u001b[49m\u001b[43m,\u001b[49m\u001b[43m[\u001b[49m\u001b[38;5;241;43m3\u001b[39;49m\u001b[43m,\u001b[49m\u001b[38;5;241;43m4\u001b[39;49m\u001b[43m]\u001b[49m\u001b[43m)\u001b[49m\n",
      "\u001b[0;31mTypeError\u001b[0m: list expected at most 1 argument, got 2"
     ]
    }
   ],
   "source": [
    "list([1,2],[3,4])"
   ]
  },
  {
   "cell_type": "code",
   "execution_count": null,
   "id": "db814a43-3dc9-4d5d-b2c5-e9b6a2e50338",
   "metadata": {},
   "outputs": [],
   "source": []
  }
 ],
 "metadata": {
  "kernelspec": {
   "display_name": "Python 3 (ipykernel)",
   "language": "python",
   "name": "python3"
  },
  "language_info": {
   "codemirror_mode": {
    "name": "ipython",
    "version": 3
   },
   "file_extension": ".py",
   "mimetype": "text/x-python",
   "name": "python",
   "nbconvert_exporter": "python",
   "pygments_lexer": "ipython3",
   "version": "3.10.12"
  }
 },
 "nbformat": 4,
 "nbformat_minor": 5
}

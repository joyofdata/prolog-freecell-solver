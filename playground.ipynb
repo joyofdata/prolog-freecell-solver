{
 "cells": [
  {
   "cell_type": "code",
   "execution_count": 10,
   "id": "cd00f728-6533-4a6e-9c23-e28ae224b143",
   "metadata": {},
   "outputs": [],
   "source": [
    "import re\n",
    "import itertools as it\n",
    "import random as rm"
   ]
  },
  {
   "cell_type": "code",
   "execution_count": 23,
   "id": "a6529145-f51f-4132-9c36-9c46167308b6",
   "metadata": {},
   "outputs": [
    {
     "name": "stdout",
     "output_type": "stream",
     "text": [
      "['c(dd,5)', 'c(dd,4)', 'c(dd,3)', 'c(dd,2)', 'c(dd,1)']\n",
      "['c(ht,5)', 'c(ht,4)', 'c(ht,3)', 'c(ht,2)', 'c(ht,1)']\n",
      "['c(sd,5)', 'c(sd,4)', 'c(sd,3)', 'c(sd,2)', 'c(sd,1)']\n",
      "['c(cb,5)', 'c(cb,4)', 'c(cb,3)', 'c(cb,2)', 'c(cb,1)']\n"
     ]
    }
   ],
   "source": [
    "goals = [(\"G1\",\"dd\"),(\"G2\",\"ht\"),(\"G3\",\"sd\"),(\"G4\",\"cb\")]\n",
    "for g,s in goals:\n",
    "    print([f\"c({s},{i})\" for i in range(5,0,-1)])"
   ]
  },
  {
   "cell_type": "markdown",
   "id": "21349315-b3f2-4e56-9045-0e853f84cc48",
   "metadata": {},
   "source": [
    "# Generate game setups"
   ]
  },
  {
   "cell_type": "code",
   "execution_count": 59,
   "id": "6ffcf8ee-1da9-4533-9b41-c777b78f58df",
   "metadata": {},
   "outputs": [],
   "source": [
    "clrs = [\"dd\",\"ht\",\"sd\",\"cb\"]\n",
    "rnks = range(1,14)"
   ]
  },
  {
   "cell_type": "code",
   "execution_count": 60,
   "id": "8e103f54-4352-4657-97f0-1c65a68689c5",
   "metadata": {},
   "outputs": [],
   "source": [
    "cards = list(map(lambda rc: f\"c({rc[0]},{rc[1]})\", it.product(rnks,clrs)))"
   ]
  },
  {
   "cell_type": "code",
   "execution_count": 61,
   "id": "6f16acc5-8fa1-4b94-ad93-4ed43f7e431a",
   "metadata": {},
   "outputs": [],
   "source": [
    "cards = rm.sample(cards, k=len(cards))"
   ]
  },
  {
   "cell_type": "code",
   "execution_count": 62,
   "id": "2e6a2a8e-38b9-430c-803a-b256eebd82a1",
   "metadata": {},
   "outputs": [],
   "source": [
    "l = [[],[],[],[],[],[],[],[]]"
   ]
  },
  {
   "cell_type": "code",
   "execution_count": 63,
   "id": "a7be5334-16ae-47f9-8b8f-da72c51bd0d3",
   "metadata": {
    "scrolled": true
   },
   "outputs": [],
   "source": [
    "for i in range(len(cards)):\n",
    "    l[i%8].append(cards[i])"
   ]
  },
  {
   "cell_type": "code",
   "execution_count": 66,
   "id": "c9a17d54-3bed-4546-aced-99cf17013c50",
   "metadata": {},
   "outputs": [
    {
     "name": "stdout",
     "output_type": "stream",
     "text": [
      "[['c(11,sd)', 'c(11,ht)', 'c(13,cb)', 'c(1,dd)', 'c(1,sd)', 'c(9,cb)', 'c(4,sd)'], ['c(12,ht)', 'c(5,ht)', 'c(13,dd)', 'c(12,sd)', 'c(4,cb)', 'c(9,ht)', 'c(3,dd)'], ['c(10,sd)', 'c(8,sd)', 'c(5,sd)', 'c(8,dd)', 'c(1,ht)', 'c(2,ht)', 'c(3,ht)'], ['c(2,dd)', 'c(10,cb)', 'c(12,cb)', 'c(2,cb)', 'c(3,sd)', 'c(6,sd)', 'c(5,dd)'], ['c(6,ht)', 'c(10,dd)', 'c(6,dd)', 'c(8,cb)', 'c(8,ht)', 'c(11,cb)'], ['c(12,dd)', 'c(7,cb)', 'c(1,cb)', 'c(2,sd)', 'c(7,dd)', 'c(3,cb)'], ['c(5,cb)', 'c(6,cb)', 'c(4,dd)', 'c(10,ht)', 'c(4,ht)', 'c(13,ht)'], ['c(13,sd)', 'c(7,ht)', 'c(9,sd)', 'c(7,sd)', 'c(9,dd)', 'c(11,dd)']]\n"
     ]
    }
   ],
   "source": [
    "print(l)"
   ]
  },
  {
   "cell_type": "code",
   "execution_count": 67,
   "id": "b3b33e2f-3392-4540-ba18-c79b7b3d0be9",
   "metadata": {},
   "outputs": [],
   "source": [
    "cmd = f\"fc({','.join(str(l[i]) for i in range(8))}, S)\".replace(\"'\",\"\")"
   ]
  },
  {
   "cell_type": "code",
   "execution_count": 68,
   "id": "ba211bc2-0231-44e6-9ede-7e21c0a5706f",
   "metadata": {},
   "outputs": [
    {
     "name": "stdout",
     "output_type": "stream",
     "text": [
      "fc([c(11,sd), c(11,ht), c(13,cb), c(1,dd), c(1,sd), c(9,cb), c(4,sd)],[c(12,ht), c(5,ht), c(13,dd), c(12,sd), c(4,cb), c(9,ht), c(3,dd)],[c(10,sd), c(8,sd), c(5,sd), c(8,dd), c(1,ht), c(2,ht), c(3,ht)],[c(2,dd), c(10,cb), c(12,cb), c(2,cb), c(3,sd), c(6,sd), c(5,dd)],[c(6,ht), c(10,dd), c(6,dd), c(8,cb), c(8,ht), c(11,cb)],[c(12,dd), c(7,cb), c(1,cb), c(2,sd), c(7,dd), c(3,cb)],[c(5,cb), c(6,cb), c(4,dd), c(10,ht), c(4,ht), c(13,ht)],[c(13,sd), c(7,ht), c(9,sd), c(7,sd), c(9,dd), c(11,dd)], S)\n"
     ]
    }
   ],
   "source": [
    "print(cmd)"
   ]
  },
  {
   "cell_type": "code",
   "execution_count": 69,
   "id": "77577592-70da-443c-8271-67a73ecf0ca0",
   "metadata": {},
   "outputs": [
    {
     "data": {
      "text/plain": [
       "'fc([c(11,sd), c(11,ht), c(13,cb), c(1,dd), c(1,sd), c(9,cb), c(4,sd)],[c(12,ht), c(5,ht), c(13,dd), c(12,sd), c(4,cb), c(9,ht), c(3,dd)],[c(10,sd), c(8,sd), c(5,sd), c(8,dd), c(1,ht), c(2,ht), c(3,ht)],[c(2,dd), c(10,cb), c(12,cb), c(2,cb), c(3,sd), c(6,sd), c(5,dd)],[c(6,ht), c(10,dd), c(6,dd), c(8,cb), c(8,ht), c(11,cb)],[c(12,dd), c(7,cb), c(1,cb), c(2,sd), c(7,dd), c(3,cb)],[c(5,cb), c(6,cb), c(4,dd), c(10,ht), c(4,ht), c(13,ht)],[c(13,sd), c(7,ht), c(9,sd), c(7,sd), c(9,dd), c(11,dd)], S)'"
      ]
     },
     "execution_count": 69,
     "metadata": {},
     "output_type": "execute_result"
    }
   ],
   "source": [
    "cmd"
   ]
  },
  {
   "cell_type": "code",
   "execution_count": 70,
   "id": "63bf64d1-0e89-476d-9d86-5cfe2aa1e854",
   "metadata": {},
   "outputs": [
    {
     "name": "stdout",
     "output_type": "stream",
     "text": [
      "swipl -g 'fc([c(11,sd), c(11,ht), c(13,cb), c(1,dd), c(1,sd), c(9,cb), c(4,sd)],[c(12,ht), c(5,ht), c(13,dd), c(12,sd), c(4,cb), c(9,ht), c(3,dd)],[c(10,sd), c(8,sd), c(5,sd), c(8,dd), c(1,ht), c(2,ht), c(3,ht)],[c(2,dd), c(10,cb), c(12,cb), c(2,cb), c(3,sd), c(6,sd), c(5,dd)],[c(6,ht), c(10,dd), c(6,dd), c(8,cb), c(8,ht), c(11,cb)],[c(12,dd), c(7,cb), c(1,cb), c(2,sd), c(7,dd), c(3,cb)],[c(5,cb), c(6,cb), c(4,dd), c(10,ht), c(4,ht), c(13,ht)],[c(13,sd), c(7,ht), c(9,sd), c(7,sd), c(9,dd), c(11,dd)], S),write(S)' -t halt freecell.pl > solution_1.txt\n"
     ]
    }
   ],
   "source": [
    "print(f\"swipl -g '{cmd},write(S)' -t halt freecell.pl > solution_1.txt\")"
   ]
  },
  {
   "cell_type": "code",
   "execution_count": 20,
   "id": "ff7bcdc0-8f67-466b-8b4b-eed74d946958",
   "metadata": {},
   "outputs": [
    {
     "name": "stdout",
     "output_type": "stream",
     "text": [
      "fc([c(3,dd), c(4,ht), c(1,cb)],[c(3,cb), c(4,dd), c(5,cb)],[c(1,dd), c(5,dd), c(2,cb)],[c(5,sd), c(3,ht), c(1,sd)],[c(4,sd), c(2,sd)],[c(2,dd), c(4,cb)],[c(2,ht), c(3,sd)],[c(5,ht), c(1,ht)], S)\n"
     ]
    }
   ],
   "source": [
    "print(cmd.replace(\"'\",\"\"))"
   ]
  },
  {
   "cell_type": "code",
   "execution_count": null,
   "id": "b5e4186f-23c9-4e63-944b-db7d49d78c9d",
   "metadata": {},
   "outputs": [],
   "source": []
  },
  {
   "cell_type": "code",
   "execution_count": null,
   "id": "eb37ec3e-0acd-40cd-9410-95b687ddea5b",
   "metadata": {},
   "outputs": [],
   "source": []
  }
 ],
 "metadata": {
  "kernelspec": {
   "display_name": "Python 3 (ipykernel)",
   "language": "python",
   "name": "python3"
  },
  "language_info": {
   "codemirror_mode": {
    "name": "ipython",
    "version": 3
   },
   "file_extension": ".py",
   "mimetype": "text/x-python",
   "name": "python",
   "nbconvert_exporter": "python",
   "pygments_lexer": "ipython3",
   "version": "3.10.12"
  }
 },
 "nbformat": 4,
 "nbformat_minor": 5
}

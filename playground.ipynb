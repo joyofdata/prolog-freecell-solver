{
 "cells": [
  {
   "cell_type": "code",
   "execution_count": 1,
   "id": "9481a87e-ec88-49a2-86a1-4788b5f8709f",
   "metadata": {},
   "outputs": [],
   "source": [
    "res = \"\"\"\n",
    "f([G1|G1s], G2, [F1], F2, L1, L2, L3, [S_|S], P, P_) :- ((G1 = b, F1 = 1); (G1 \\= b, F1 =:= G1 + 1)), step_str(F1, 'F1', 'G1', S_), f([F1,G1|G1s], G2, [], F2, L1, L2, L3, S, [[L1,L2,L3]|P], P_),!.\n",
    "f([G1|G1s], G2, F1, [F2], L1, L2, L3, [S_|S], P, P_) :- ((G1 = b, F2 = 1); (G1 \\= b, F2 =:= G1 + 1)), step_str(F2, 'F2', 'G1', S_), f([F2,G1|G1s], G2, F1, [], L1, L2, L3, S, [[L1,L2,L3]|P], P_),!.\n",
    "f(G1, [G2|G2s], [F1], F2, L1, L2, L3, [S_|S], P, P_) :- ((G2 = b, F1 = 1); (G2 \\= b, F1 =:= G2 + 1)), step_str(F1, 'F1', 'G2', S_), f(G1, [F1,G2|G2s], [], F2, L1, L2, L3, S, [[L1,L2,L3]|P], P_),!.\n",
    "f(G1, [G2|G2s], F1, [F2], L1, L2, L3, [S_|S], P, P_) :- ((G2 = b, F2 = 1); (G2 \\= b, F2 =:= G2 + 1)), step_str(F2, 'F2', 'G2', S_), f(G1, [F2,G2|G2s], F1, [], L1, L2, L3, S, [[L1,L2,L3]|P], P_),!.\n",
    "\"\"\".strip()"
   ]
  },
  {
   "cell_type": "code",
   "execution_count": 2,
   "id": "48e635bd-ce67-43cb-afe9-ede67f60732d",
   "metadata": {},
   "outputs": [
    {
     "name": "stdout",
     "output_type": "stream",
     "text": [
      "f([G1|G1s], G2, [F1], F2, L1, L2, L3, [S_|S], P, P_) :- ((G1 = b, F1 = 1); (G1 \\= b, F1 =:= G1 + 1)), step_str(F1, 'F1', 'G1', S_), f([F1,G1|G1s], G2, [], F2, L1, L2, L3, S, [[L1,L2,L3]|P], P_),!.\n",
      "f([G1|G1s], G2, F1, [F2], L1, L2, L3, [S_|S], P, P_) :- ((G1 = b, F2 = 1); (G1 \\= b, F2 =:= G1 + 1)), step_str(F2, 'F2', 'G1', S_), f([F2,G1|G1s], G2, F1, [], L1, L2, L3, S, [[L1,L2,L3]|P], P_),!.\n",
      "f(G1, [G2|G2s], [F1], F2, L1, L2, L3, [S_|S], P, P_) :- ((G2 = b, F1 = 1); (G2 \\= b, F1 =:= G2 + 1)), step_str(F1, 'F1', 'G2', S_), f(G1, [F1,G2|G2s], [], F2, L1, L2, L3, S, [[L1,L2,L3]|P], P_),!.\n",
      "f(G1, [G2|G2s], F1, [F2], L1, L2, L3, [S_|S], P, P_) :- ((G2 = b, F2 = 1); (G2 \\= b, F2 =:= G2 + 1)), step_str(F2, 'F2', 'G2', S_), f(G1, [F2,G2|G2s], F1, [], L1, L2, L3, S, [[L1,L2,L3]|P], P_),!.\n"
     ]
    }
   ],
   "source": [
    "print(res)"
   ]
  },
  {
   "cell_type": "code",
   "execution_count": null,
   "id": "7b98e7e5-15ec-4682-9cb0-6fd7cf5a5e90",
   "metadata": {},
   "outputs": [],
   "source": [
    "nl = 3\n",
    "ng = 2\n",
    "nf = 2\n",
    "\n",
    "for g in range(1,2+1):\n",
    "    for f in range(1,2+1):\n",
    "        r = f\"f([G1|G1s], G2, [F1], F2, L1, L2, L3, [S_|S], P, P_) :- ((G1 = b, F1 = 1); (G1 \\= b, F1 =:= G1 + 1)), step_str(F1, 'F1', 'G1', S_), f([F1,G1|G1s], G2, [], F2, L1, L2, L3, S, [[L1,L2,L3]|P], P_),!.\""
   ]
  },
  {
   "cell_type": "code",
   "execution_count": 4,
   "id": "e32b5b91-4d29-4979-9231-b5f0e1d3b77e",
   "metadata": {},
   "outputs": [
    {
     "data": {
      "text/plain": [
       "[('L', 1)]"
      ]
     },
     "execution_count": 4,
     "metadata": {},
     "output_type": "execute_result"
    }
   ],
   "source": [
    "list(zip(\"L\",range(1,4)))"
   ]
  },
  {
   "cell_type": "code",
   "execution_count": 8,
   "id": "02b82178-851c-49b7-943e-db8b03b6d0ae",
   "metadata": {},
   "outputs": [
    {
     "data": {
      "text/plain": [
       "'L1, L2, L3'"
      ]
     },
     "execution_count": 8,
     "metadata": {},
     "output_type": "execute_result"
    }
   ],
   "source": [
    "\", \".join([f\"L{i}\" for i in range(1,4)])"
   ]
  },
  {
   "cell_type": "code",
   "execution_count": 12,
   "id": "89b13761-e46b-4a15-aac4-56ae8d0d63a0",
   "metadata": {},
   "outputs": [
    {
     "data": {
      "text/plain": [
       "0"
      ]
     },
     "execution_count": 12,
     "metadata": {},
     "output_type": "execute_result"
    }
   ],
   "source": [
    "[0,1][False]"
   ]
  },
  {
   "cell_type": "code",
   "execution_count": 25,
   "id": "e5d009b4-f246-4e61-b174-ca313cf911cf",
   "metadata": {},
   "outputs": [
    {
     "name": "stdout",
     "output_type": "stream",
     "text": [
      "\n",
      "        \n",
      "        \n",
      "        f([G1|G1s], G2,                                   % F1 to G1\n",
      "            [F1], F2, \n",
      "            L1, L2, L3, \n",
      "            [S_|S], P, P_\n",
      "        ) :- \n",
      "            ((G1 = b, F1 = 1); (G1 \\= b, F1 =:= G1 + 1)), % condition\n",
      "            step_str(F1, 'F1', 'G1', S_),                 % string describing step\n",
      "            f([F1,G1|G1s], G2, \n",
      "                [], F2, \n",
      "                L1, L2, L3, \n",
      "                S, [[L1,L2,L3]|P], P_                     % steps and known states\n",
      "            ),!.\n",
      "        \n",
      "\n",
      "        \n",
      "        \n",
      "        f([G1|G1s], G2,                                   % F2 to G1\n",
      "            F1, [F2], \n",
      "            L1, L2, L3, \n",
      "            [S_|S], P, P_\n",
      "        ) :- \n",
      "            ((G1 = b, F2 = 1); (G1 \\= b, F2 =:= G1 + 1)), % condition\n",
      "            step_str(F2, 'F2', 'G1', S_),                 % string describing step\n",
      "            f([F2,G1|G1s], G2, \n",
      "                F1, [], \n",
      "                L1, L2, L3, \n",
      "                S, [[L1,L2,L3]|P], P_                     % steps and known states\n",
      "            ),!.\n",
      "        \n",
      "\n",
      "        \n",
      "        \n",
      "        f(G1, [G2|G2s],                                   % F1 to G2\n",
      "            [F1], F2, \n",
      "            L1, L2, L3, \n",
      "            [S_|S], P, P_\n",
      "        ) :- \n",
      "            ((G2 = b, F1 = 1); (G2 \\= b, F1 =:= G2 + 1)), % condition\n",
      "            step_str(F1, 'F1', 'G2', S_),                 % string describing step\n",
      "            f(G1, [F1,G2|G2s], \n",
      "                [], F2, \n",
      "                L1, L2, L3, \n",
      "                S, [[L1,L2,L3]|P], P_                     % steps and known states\n",
      "            ),!.\n",
      "        \n",
      "\n",
      "        \n",
      "        \n",
      "        f(G1, [G2|G2s],                                   % F2 to G2\n",
      "            F1, [F2], \n",
      "            L1, L2, L3, \n",
      "            [S_|S], P, P_\n",
      "        ) :- \n",
      "            ((G2 = b, F2 = 1); (G2 \\= b, F2 =:= G2 + 1)), % condition\n",
      "            step_str(F2, 'F2', 'G2', S_),                 % string describing step\n",
      "            f(G1, [F2,G2|G2s], \n",
      "                F1, [], \n",
      "                L1, L2, L3, \n",
      "                S, [[L1,L2,L3]|P], P_                     % steps and known states\n",
      "            ),!.\n",
      "        \n"
     ]
    }
   ],
   "source": [
    "num_lanes = 3\n",
    "num_goals = 2\n",
    "num_freecells = 2\n",
    "\n",
    "def freecells_to_goals(num_goals, num_lanes):\n",
    "    G = lambda g,i: [f\"G{i}\",f\"[G{g}|G{g}s]\"][i==g]\n",
    "    F = lambda f,i: [f\"F{i}\",f\"[F{f}]\"][i==f]\n",
    "    \n",
    "    G_ = lambda f,g,i: [f\"G{i}\",f\"[F{f},G{g}|G{g}s]\"][i==g]\n",
    "    F_ = lambda f,i: [f\"F{i}\",\"[]\"][i==f]\n",
    "    \n",
    "    res = []\n",
    "    for g in range(1,num_goals+1):\n",
    "        for f in range(1,num_freecells+1):\n",
    "            res.append(f\"\"\"\n",
    "            f({G(g,1)}, {G(g,2)},                                   % F{f} to G{g}\n",
    "                {F(f,1)}, {F(f,2)}, \n",
    "                L1, L2, L3, \n",
    "                [S_|S], P, P_\n",
    "            ) :- \n",
    "                ((G{g} = b, F{f} = 1); (G{g} \\= b, F{f} =:= G{g} + 1)), % condition\n",
    "                step_str(F{f}, 'F{f}', 'G{g}', S_),                 % string describing step\n",
    "                f({G_(f,g,1)}, {G_(f,g,2)}, \n",
    "                    {F_(f,1)}, {F_(f,2)}, \n",
    "                    L1, L2, L3, \n",
    "                    S, [[L1,L2,L3]|P], P_                     % steps and known states\n",
    "                ),!.\n",
    "            \"\"\")\n",
    "\n",
    "    return \"\\n\".join(res)\n"
   ]
  },
  {
   "cell_type": "code",
   "execution_count": 86,
   "id": "ec223ecf-54e5-49f6-a5e3-bb8bfe297d4d",
   "metadata": {},
   "outputs": [
    {
     "data": {
      "text/plain": [
       "'\\naX\\naaaaaY\\naZ\\n'"
      ]
     },
     "execution_count": 86,
     "metadata": {},
     "output_type": "execute_result"
    }
   ],
   "source": [
    "import re\n",
    "\n",
    "t = \"\"\"\n",
    "aaaaX\n",
    "aaaaaaaaY\n",
    "aaaaZ\n",
    "\"\"\"\n",
    "\n",
    "re.sub(\"\\naaa\",\"\\n\",t,re.MULTILINE)"
   ]
  },
  {
   "cell_type": "code",
   "execution_count": null,
   "id": "193f4339-cf50-41a8-8c15-a879d891d7d8",
   "metadata": {},
   "outputs": [],
   "source": []
  }
 ],
 "metadata": {
  "kernelspec": {
   "display_name": "Python 3 (ipykernel)",
   "language": "python",
   "name": "python3"
  },
  "language_info": {
   "codemirror_mode": {
    "name": "ipython",
    "version": 3
   },
   "file_extension": ".py",
   "mimetype": "text/x-python",
   "name": "python",
   "nbconvert_exporter": "python",
   "pygments_lexer": "ipython3",
   "version": "3.10.12"
  }
 },
 "nbformat": 4,
 "nbformat_minor": 5
}

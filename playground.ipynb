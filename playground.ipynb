{
 "cells": [
  {
   "cell_type": "code",
   "execution_count": 10,
   "id": "cd00f728-6533-4a6e-9c23-e28ae224b143",
   "metadata": {},
   "outputs": [],
   "source": [
    "import re\n",
    "import itertools as it\n",
    "import random as rm"
   ]
  },
  {
   "cell_type": "code",
   "execution_count": 89,
   "id": "bbec2f1e-9322-4dcc-ba29-99d7f12a39e6",
   "metadata": {},
   "outputs": [],
   "source": [
    "m = re.match(\"c\\((\\d+),([a-z]{2})\\)\",\"c(3,ht)\")"
   ]
  },
  {
   "cell_type": "code",
   "execution_count": 91,
   "id": "a6bb475b-5f69-48a5-ac72-d442a61c016a",
   "metadata": {},
   "outputs": [
    {
     "data": {
      "text/plain": [
       "'ht'"
      ]
     },
     "execution_count": 91,
     "metadata": {},
     "output_type": "execute_result"
    }
   ],
   "source": [
    "m.group(2)"
   ]
  },
  {
   "cell_type": "code",
   "execution_count": null,
   "id": "0e9d8096-0979-4f7d-940d-086e72c8269f",
   "metadata": {},
   "outputs": [],
   "source": []
  },
  {
   "cell_type": "code",
   "execution_count": 74,
   "id": "e41860c8-7cf8-4100-834d-16bccaa98e19",
   "metadata": {},
   "outputs": [],
   "source": [
    "solution = \"[c(6,sd):L1-F1,c(4,ht):L2-L1,c(4,sd):L4-L2,c(3,sd):L4-L1,c(2,ht):L4-L1,c(6,sd):F1-L4,c(2,ht):L1-F1,c(4,sd):L2-F2,c(2,ht):F1-L1,c(5,ht):L2-L4,c(1,ht):L2-G1,c(2,ht):L1-G1,c(4,sd):F2-L2,c(4,sd):L2-L4,c(3,sd):L1-L2,c(4,ht):L1-F1,c(5,sd):L1-F2,c(3,ht):L1-G1,c(4,ht):F1-G1,c(5,sd):F2-L1,c(3,sd):L2-F1,c(5,sd):L1-L2,c(3,sd):F1-L1,c(5,sd):L2-F1,c(2,sd):L3-L2,c(5,sd):F1-L3,c(3,sd):L1-F1,c(2,sd):L2-L1,c(3,sd):F1-L2,c(2,sd):L1-F1,c(3,sd):L2-L1,c(5,sd):L3-L2,c(3,sd):L1-F2,c(2,sd):F1-L1,c(5,sd):L2-F1,c(3,sd):F2-L2,c(2,sd):L1-F2,c(5,sd):F1-L1,c(3,sd):L2-F1,c(2,sd):F2-L2,c(5,sd):L1-F2,c(6,ht):L3-L1,c(1,sd):L3-G2,c(2,sd):L2-G2,c(3,sd):F1-G2,c(4,sd):L4-G2,c(5,sd):F2-G2,c(5,ht):L4-G1,c(6,ht):L1-G1,c(6,sd):L4-G2]\""
   ]
  },
  {
   "cell_type": "code",
   "execution_count": 83,
   "id": "cde5558a-805b-4041-ba78-9fdddc57e843",
   "metadata": {
    "scrolled": true
   },
   "outputs": [
    {
     "name": "stdout",
     "output_type": "stream",
     "text": [
      "6\n",
      "4\n",
      "4\n",
      "3\n",
      "2\n",
      "6\n",
      "2\n",
      "4\n",
      "2\n",
      "5\n",
      "1\n",
      "2\n",
      "4\n",
      "4\n",
      "3\n",
      "4\n",
      "5\n",
      "3\n",
      "4\n",
      "5\n",
      "3\n",
      "5\n",
      "3\n",
      "5\n",
      "2\n",
      "5\n",
      "3\n",
      "2\n",
      "3\n",
      "2\n",
      "3\n",
      "5\n",
      "3\n",
      "2\n",
      "5\n",
      "3\n",
      "2\n",
      "5\n",
      "3\n",
      "2\n",
      "5\n",
      "6\n",
      "1\n",
      "2\n",
      "3\n",
      "4\n",
      "5\n",
      "5\n",
      "6\n",
      "6\n"
     ]
    }
   ],
   "source": [
    "for step in re.finditer('(c\\((\\d+),([a-z]{2})\\)):([L,G,F]\\d)-([L,G,F]\\d)', solution):\n",
    "    print(step.group(2))"
   ]
  },
  {
   "cell_type": "markdown",
   "id": "21349315-b3f2-4e56-9045-0e853f84cc48",
   "metadata": {},
   "source": [
    "# Generate game setups"
   ]
  },
  {
   "cell_type": "code",
   "execution_count": 116,
   "id": "6ffcf8ee-1da9-4533-9b41-c777b78f58df",
   "metadata": {},
   "outputs": [],
   "source": [
    "clrs = [\"ht\",\"sd\"]\n",
    "rnks = range(1,7)"
   ]
  },
  {
   "cell_type": "code",
   "execution_count": 117,
   "id": "8e103f54-4352-4657-97f0-1c65a68689c5",
   "metadata": {},
   "outputs": [],
   "source": [
    "cards = list(map(lambda rc: f\"c({rc[0]},{rc[1]})\", it.product(rnks,clrs)))"
   ]
  },
  {
   "cell_type": "code",
   "execution_count": 118,
   "id": "6f16acc5-8fa1-4b94-ad93-4ed43f7e431a",
   "metadata": {},
   "outputs": [],
   "source": [
    "cards = rm.sample(cards, k=len(cards))"
   ]
  },
  {
   "cell_type": "code",
   "execution_count": 119,
   "id": "d3cda9e0-7384-400f-bafc-295e7f0c8290",
   "metadata": {},
   "outputs": [],
   "source": [
    "l1 = str(cards[0:3])\n",
    "l2 = str(cards[3:6])\n",
    "l3 = str(cards[6:9])\n",
    "l4 = str(cards[9:12])"
   ]
  },
  {
   "cell_type": "code",
   "execution_count": 120,
   "id": "181b68ae-609b-4d75-803f-e03280988f9d",
   "metadata": {},
   "outputs": [],
   "source": [
    "cmd = (f\"fc({l1},{l2},{l3},{l4}, S).\")"
   ]
  },
  {
   "cell_type": "code",
   "execution_count": 121,
   "id": "63bf64d1-0e89-476d-9d86-5cfe2aa1e854",
   "metadata": {},
   "outputs": [
    {
     "data": {
      "text/plain": [
       "\"fc(['c(6,ht)', 'c(2,sd)', 'c(3,sd)'],['c(4,ht)', 'c(6,sd)', 'c(5,ht)'],['c(1,sd)', 'c(5,sd)', 'c(1,ht)'],['c(4,sd)', 'c(3,ht)', 'c(2,ht)'], S).\""
      ]
     },
     "execution_count": 121,
     "metadata": {},
     "output_type": "execute_result"
    }
   ],
   "source": [
    "cmd"
   ]
  },
  {
   "cell_type": "code",
   "execution_count": 122,
   "id": "ff7bcdc0-8f67-466b-8b4b-eed74d946958",
   "metadata": {},
   "outputs": [
    {
     "name": "stdout",
     "output_type": "stream",
     "text": [
      "fc([c(6,ht), c(2,sd), c(3,sd)],[c(4,ht), c(6,sd), c(5,ht)],[c(1,sd), c(5,sd), c(1,ht)],[c(4,sd), c(3,ht), c(2,ht)], S).\n"
     ]
    }
   ],
   "source": [
    "print(cmd.replace(\"'\",\"\"))"
   ]
  },
  {
   "cell_type": "code",
   "execution_count": null,
   "id": "b5e4186f-23c9-4e63-944b-db7d49d78c9d",
   "metadata": {},
   "outputs": [],
   "source": []
  }
 ],
 "metadata": {
  "kernelspec": {
   "display_name": "Python 3 (ipykernel)",
   "language": "python",
   "name": "python3"
  },
  "language_info": {
   "codemirror_mode": {
    "name": "ipython",
    "version": 3
   },
   "file_extension": ".py",
   "mimetype": "text/x-python",
   "name": "python",
   "nbconvert_exporter": "python",
   "pygments_lexer": "ipython3",
   "version": "3.10.12"
  }
 },
 "nbformat": 4,
 "nbformat_minor": 5
}

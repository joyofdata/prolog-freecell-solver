{
 "cells": [
  {
   "cell_type": "code",
   "execution_count": 31,
   "id": "cd00f728-6533-4a6e-9c23-e28ae224b143",
   "metadata": {},
   "outputs": [],
   "source": [
    "import re"
   ]
  },
  {
   "cell_type": "code",
   "execution_count": 32,
   "id": "e5d009b4-f246-4e61-b174-ca313cf911cf",
   "metadata": {},
   "outputs": [],
   "source": [
    "num_lanes = 3\n",
    "num_goals = 2\n",
    "num_freecells = 2\n",
    "\n",
    "def freecells_to_goals(num_goals, num_freecells):\n",
    "    G = lambda g,i: [f\"G{i}\",f\"[G{g}|G{g}s]\"][i==g]\n",
    "    F = lambda f,i: [f\"F{i}\",f\"[F{f}]\"][i==f]\n",
    "    \n",
    "    G_ = lambda f,g,i: [f\"G{i}\",f\"[F{f},G{g}|G{g}s]\"][i==g]\n",
    "    F_ = lambda f,i: [f\"F{i}\",\"[]\"][i==f]\n",
    "    \n",
    "    res = []\n",
    "    for g in range(1,num_goals+1):\n",
    "        for f in range(1,num_freecells+1):\n",
    "            res0 = f\"\"\"\n",
    "            f({G(g,1)}, {G(g,2)},                                   % F{f} to G{g}\n",
    "                {F(f,1)}, {F(f,2)}, \n",
    "                L1, L2, L3, \n",
    "                [S_|S], P, P_\n",
    "            ) :- \n",
    "                ((G{g} = b, F{f} = 1); (G{g} \\= b, F{f} =:= G{g} + 1)), % condition\n",
    "                step_str(F{f}, 'F{f}', 'G{g}', S_),                 % string describing step\n",
    "                f({G_(f,g,1)}, {G_(f,g,2)}, \n",
    "                    {F_(f,1)}, {F_(f,2)}, \n",
    "                    L1, L2, L3, \n",
    "                    S, [[L1,L2,L3]|P], P_                     % steps and known states\n",
    "                ),!.\n",
    "            \"\"\"\n",
    "            res.append(re.sub(\"\\n            \",\"\\n\",res0).lstrip())\n",
    "\n",
    "    return \"\\n\".join(res)\n"
   ]
  },
  {
   "cell_type": "raw",
   "id": "7df9fc13-0b35-473e-a36e-de9d37d49cf8",
   "metadata": {},
   "source": [
    "% lanes to goal\n",
    "f([G1|G1s], G2, F1, F2, [L1|L1s], L2, L3, [S_|S], P, P_) :- L1 \\= b, ((G1 = b, L1 = 1); (G1 \\= b, L1 =:= G1 + 1)), step_str(L1, 'L1', 'G1', S_), f([L1,G1|G1s], G2, F1, F2, L1s, L2, L3, S, [[L1s,L2,L3]|P], P_),!.\n",
    "f([G1|G1s], G2, F1, F2, L1, [L2|L2s], L3, [S_|S], P, P_) :- L2 \\= b, ((G1 = b, L2 = 1); (G1 \\= b, L2 =:= G1 + 1)), step_str(L2, 'L2', 'G1', S_), f([L2,G1|G1s], G2, F1, F2, L1, L2s, L3, S, [[L1,L2s,L3]|P], P_),!.\n",
    "f([G1|G1s], G2, F1, F2, L1, L2, [L3|L3s], [S_|S], P, P_) :- L3 \\= b, ((G1 = b, L3 = 1); (G1 \\= b, L3 =:= G1 + 1)), step_str(L3, 'L3', 'G1', S_), f([L3,G1|G1s], G2, F1, F2, L1, L2, L3s, S, [[L1,L2,L3s]|P], P_),!.\n",
    "f(G1, [G2|G2s], F1, F2, [L1|L1s], L2, L3, [S_|S], P, P_) :- L1 \\= b, ((G2 = b, L1 = 1); (G2 \\= b, L1 =:= G2 + 1)), step_str(L1, 'L1', 'G2', S_), f(G1, [L1,G2|G2s], F1, F2, L1s, L2, L3, S, [[L1s,L2,L3]|P], P_),!.\n",
    "f(G1, [G2|G2s], F1, F2, L1, [L2|L2s], L3, [S_|S], P, P_) :- L2 \\= b, ((G2 = b, L2 = 1); (G2 \\= b, L2 =:= G2 + 1)), step_str(L2, 'L2', 'G2', S_), f(G1, [L2,G2|G2s], F1, F2, L1, L2s, L3, S, [[L1,L2s,L3]|P], P_),!.\n",
    "f(G1, [G2|G2s], F1, F2, L1, L2, [L3|L3s], [S_|S], P, P_) :- L3 \\= b, ((G2 = b, L3 = 1); (G2 \\= b, L3 =:= G2 + 1)), step_str(L3, 'L3', 'G2', S_), f(G1, [L3,G2|G2s], F1, F2, L1, L2, L3s, S, [[L1,L2,L3s]|P], P_),!.\n"
   ]
  },
  {
   "cell_type": "code",
   "execution_count": 33,
   "id": "aefaa256-72b8-4207-8bc5-442d37267bcf",
   "metadata": {},
   "outputs": [],
   "source": [
    "num_lanes = 3\n",
    "num_goals = 2\n",
    "num_freecells = 2\n",
    "\n",
    "l = 3\n",
    "g = 2\n",
    "\n",
    "\n",
    "\n",
    "res0 = f\"\"\"\n",
    "f({G(g,1)}, {G(g,2)}, F1, F2, {L(l,1)}, {L(l,2)}, {L(l,3)}, [S_|S], P, P_) :- L{l} \\= b, ((G{g} = b, L{l} = 1); (G{g} \\= b, L{l} =:= G{g} + 1)), step_str(L{l}, 'L{l}', 'G{g}', S_), f({G_(g,l,1)}, {G_(g,l,2)}, F1, F2, {L_(l,1)}, {L_(l,2)}, {L_(l,3)}, S, [[{L_(l,1)},{L_(l,2)},{L_(l,3)}]|P], P_),!.\n",
    "\"\"\".strip()"
   ]
  },
  {
   "cell_type": "code",
   "execution_count": 34,
   "id": "006d5fa2-47d2-4043-91e4-f3c2f3ac74fe",
   "metadata": {},
   "outputs": [],
   "source": [
    "num_lanes = 3\n",
    "num_goals = 2\n",
    "num_freecells = 2\n",
    "\n",
    "def lanes_to_goals(num_goals, num_lanes):\n",
    "    G = lambda g,i: [f\"G{i}\",f\"[G{g}|G{g}s]\"][g==i]\n",
    "    L = lambda l,i: [f\"L{i}\",f\"[L{l}|L{l}s]\"][l==i]\n",
    "    \n",
    "    G_ = lambda g,l,i: [f\"G{i}\",f\"[L{l},G{g}|G{g}s]\"][g==i]\n",
    "    L_ = lambda l,i: [f\"L{i}\",f\"L{l}s\"][l==i]\n",
    "    \n",
    "    res = []\n",
    "    for g in range(1,num_goals+1):\n",
    "        for l in range(1,num_lanes+1):\n",
    "            res0 = f\"\"\"\n",
    "            f({G(g,1)}, {G(g,2)}, \n",
    "                F1, F2, \n",
    "                {L(l,1)}, {L(l,2)}, {L(l,3)}, \n",
    "                [S_|S], P, P_\n",
    "            ) :- \n",
    "                L{l} \\= b, ((G{g} = b, L{l} = 1); (G{g} \\= b, L{l} =:= G{g} + 1)), \n",
    "                step_str(L{l}, 'L{l}', 'G{g}', S_), \n",
    "                f({G_(g,l,1)}, {G_(g,l,2)}, \n",
    "                    F1, F2, \n",
    "                    {L_(l,1)}, {L_(l,2)}, {L_(l,3)}, \n",
    "                    S, [[{L_(l,1)},{L_(l,2)},{L_(l,3)}]|P], P_\n",
    "                ),!.\n",
    "            \"\"\"\n",
    "            res.append(re.sub(\"\\n            \",\"\\n\",res0).lstrip())\n",
    "\n",
    "    return \"\\n\".join(res)"
   ]
  },
  {
   "cell_type": "code",
   "execution_count": 36,
   "id": "ca7fb321-6547-4631-bea2-7309d49aacc3",
   "metadata": {},
   "outputs": [
    {
     "name": "stdout",
     "output_type": "stream",
     "text": [
      "f([G1|G1s], G2, \n",
      "    F1, F2, \n",
      "    [L1|L1s], L2, L3, \n",
      "    [S_|S], P, P_\n",
      ") :- \n",
      "    L1 \\= b, ((G1 = b, L1 = 1); (G1 \\= b, L1 =:= G1 + 1)), \n",
      "    step_str(L1, 'L1', 'G1', S_), \n",
      "    f([L1,G1|G1s], G2, \n",
      "        F1, F2, \n",
      "        L1s, L2, L3, \n",
      "        S, [[L1s,L2,L3]|P], P_\n",
      "    ),!.\n",
      "\n",
      "f([G1|G1s], G2, \n",
      "    F1, F2, \n",
      "    L1, [L2|L2s], L3, \n",
      "    [S_|S], P, P_\n",
      ") :- \n",
      "    L2 \\= b, ((G1 = b, L2 = 1); (G1 \\= b, L2 =:= G1 + 1)), \n",
      "    step_str(L2, 'L2', 'G1', S_), \n",
      "    f([L2,G1|G1s], G2, \n",
      "        F1, F2, \n",
      "        L1, L2s, L3, \n",
      "        S, [[L1,L2s,L3]|P], P_\n",
      "    ),!.\n",
      "\n",
      "f([G1|G1s], G2, \n",
      "    F1, F2, \n",
      "    L1, L2, [L3|L3s], \n",
      "    [S_|S], P, P_\n",
      ") :- \n",
      "    L3 \\= b, ((G1 = b, L3 = 1); (G1 \\= b, L3 =:= G1 + 1)), \n",
      "    step_str(L3, 'L3', 'G1', S_), \n",
      "    f([L3,G1|G1s], G2, \n",
      "        F1, F2, \n",
      "        L1, L2, L3s, \n",
      "        S, [[L1,L2,L3s]|P], P_\n",
      "    ),!.\n",
      "\n",
      "f(G1, [G2|G2s], \n",
      "    F1, F2, \n",
      "    [L1|L1s], L2, L3, \n",
      "    [S_|S], P, P_\n",
      ") :- \n",
      "    L1 \\= b, ((G2 = b, L1 = 1); (G2 \\= b, L1 =:= G2 + 1)), \n",
      "    step_str(L1, 'L1', 'G2', S_), \n",
      "    f(G1, [L1,G2|G2s], \n",
      "        F1, F2, \n",
      "        L1s, L2, L3, \n",
      "        S, [[L1s,L2,L3]|P], P_\n",
      "    ),!.\n",
      "\n",
      "f(G1, [G2|G2s], \n",
      "    F1, F2, \n",
      "    L1, [L2|L2s], L3, \n",
      "    [S_|S], P, P_\n",
      ") :- \n",
      "    L2 \\= b, ((G2 = b, L2 = 1); (G2 \\= b, L2 =:= G2 + 1)), \n",
      "    step_str(L2, 'L2', 'G2', S_), \n",
      "    f(G1, [L2,G2|G2s], \n",
      "        F1, F2, \n",
      "        L1, L2s, L3, \n",
      "        S, [[L1,L2s,L3]|P], P_\n",
      "    ),!.\n",
      "\n",
      "f(G1, [G2|G2s], \n",
      "    F1, F2, \n",
      "    L1, L2, [L3|L3s], \n",
      "    [S_|S], P, P_\n",
      ") :- \n",
      "    L3 \\= b, ((G2 = b, L3 = 1); (G2 \\= b, L3 =:= G2 + 1)), \n",
      "    step_str(L3, 'L3', 'G2', S_), \n",
      "    f(G1, [L3,G2|G2s], \n",
      "        F1, F2, \n",
      "        L1, L2, L3s, \n",
      "        S, [[L1,L2,L3s]|P], P_\n",
      "    ),!.\n",
      "\n"
     ]
    }
   ],
   "source": [
    "print(lanes_to_goals(num_goals, num_lanes))"
   ]
  },
  {
   "cell_type": "code",
   "execution_count": 37,
   "id": "ccce812c-39f0-4147-bdc2-e873d3b4a7f6",
   "metadata": {},
   "outputs": [],
   "source": [
    "x = \"abc\""
   ]
  },
  {
   "cell_type": "code",
   "execution_count": 41,
   "id": "917b3cd5-deb8-4f08-87e6-0b090bc770b0",
   "metadata": {},
   "outputs": [
    {
     "data": {
      "text/plain": [
       "'1bc'"
      ]
     },
     "execution_count": 41,
     "metadata": {},
     "output_type": "execute_result"
    }
   ],
   "source": [
    "(x\n",
    "    .replace(\"a\",\"1\")\n",
    ")"
   ]
  },
  {
   "cell_type": "code",
   "execution_count": null,
   "id": "65067cfc-f7ce-4370-ab34-258e450db4a5",
   "metadata": {},
   "outputs": [],
   "source": []
  }
 ],
 "metadata": {
  "kernelspec": {
   "display_name": "Python 3 (ipykernel)",
   "language": "python",
   "name": "python3"
  },
  "language_info": {
   "codemirror_mode": {
    "name": "ipython",
    "version": 3
   },
   "file_extension": ".py",
   "mimetype": "text/x-python",
   "name": "python",
   "nbconvert_exporter": "python",
   "pygments_lexer": "ipython3",
   "version": "3.10.12"
  }
 },
 "nbformat": 4,
 "nbformat_minor": 5
}
